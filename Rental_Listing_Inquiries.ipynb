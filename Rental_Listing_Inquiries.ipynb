{
 "cells": [
  {
   "cell_type": "markdown",
   "id": "20ca5333-184c-43fa-8bb9-353221967b03",
   "metadata": {},
   "source": [
    "## Introduction"
   ]
  },
  {
   "cell_type": "markdown",
   "id": "7486085c-7740-4464-aacb-c0eeac385b80",
   "metadata": {},
   "source": [
    "5 examples of the application of ML methods in life:\n",
    "1. House prices prediction\n",
    "2. Medicin: diagnosis of diseases by photos of lungs\n",
    "3. Using self-driving cars\n",
    "4. Credit scoring\n",
    "5. Sorting spam/good e-mail letters"
   ]
  },
  {
   "cell_type": "markdown",
   "id": "0558758c-bf39-4edd-9a77-3a832c736498",
   "metadata": {},
   "source": [
    "МО позволит повысить точность, ускорить процесс, повысить эффективность и безопасность."
   ]
  },
  {
   "cell_type": "markdown",
   "id": "7119430c-9ef9-46b4-a66e-fbc4fb2514cf",
   "metadata": {},
   "source": [
    "## Introduction to Data Analysis"
   ]
  },
  {
   "cell_type": "code",
   "execution_count": 137,
   "id": "c0f0889c-886e-4648-a744-9381e58fbdc6",
   "metadata": {},
   "outputs": [],
   "source": [
    "import pandas as pd, numpy as np, sklearn, lightgbm, scipy, statsmodels\n",
    "import matplotlib.pyplot as plt\n",
    "import seaborn as sns\n",
    "from sklearn.preprocessing import PolynomialFeatures\n",
    "from sklearn.linear_model import LinearRegression\n",
    "from sklearn.tree import DecisionTreeRegressor\n",
    "from sklearn.metrics import mean_absolute_error, mean_squared_error"
   ]
  },
  {
   "cell_type": "code",
   "execution_count": 138,
   "id": "d40ed0f3-f6b9-4bbd-9a90-56e4c652818f",
   "metadata": {},
   "outputs": [],
   "source": [
    "df = pd.read_json('data/train.json')"
   ]
  },
  {
   "cell_type": "code",
   "execution_count": 139,
   "id": "acb300ed-d918-4423-b0fe-419b49aece89",
   "metadata": {},
   "outputs": [
    {
     "data": {
      "text/html": [
       "<div>\n",
       "<style scoped>\n",
       "    .dataframe tbody tr th:only-of-type {\n",
       "        vertical-align: middle;\n",
       "    }\n",
       "\n",
       "    .dataframe tbody tr th {\n",
       "        vertical-align: top;\n",
       "    }\n",
       "\n",
       "    .dataframe thead th {\n",
       "        text-align: right;\n",
       "    }\n",
       "</style>\n",
       "<table border=\"1\" class=\"dataframe\">\n",
       "  <thead>\n",
       "    <tr style=\"text-align: right;\">\n",
       "      <th></th>\n",
       "      <th>bathrooms</th>\n",
       "      <th>bedrooms</th>\n",
       "      <th>building_id</th>\n",
       "      <th>created</th>\n",
       "      <th>description</th>\n",
       "      <th>display_address</th>\n",
       "      <th>features</th>\n",
       "      <th>latitude</th>\n",
       "      <th>listing_id</th>\n",
       "      <th>longitude</th>\n",
       "      <th>manager_id</th>\n",
       "      <th>photos</th>\n",
       "      <th>price</th>\n",
       "      <th>street_address</th>\n",
       "      <th>interest_level</th>\n",
       "    </tr>\n",
       "  </thead>\n",
       "  <tbody>\n",
       "    <tr>\n",
       "      <th>4</th>\n",
       "      <td>1.0</td>\n",
       "      <td>1</td>\n",
       "      <td>8579a0b0d54db803821a35a4a615e97a</td>\n",
       "      <td>2016-06-16 05:55:27</td>\n",
       "      <td>Spacious 1 Bedroom 1 Bathroom in Williamsburg!...</td>\n",
       "      <td>145 Borinquen Place</td>\n",
       "      <td>[Dining Room, Pre-War, Laundry in Building, Di...</td>\n",
       "      <td>40.7108</td>\n",
       "      <td>7170325</td>\n",
       "      <td>-73.9539</td>\n",
       "      <td>a10db4590843d78c784171a107bdacb4</td>\n",
       "      <td>[https://photos.renthop.com/2/7170325_3bb5ac84...</td>\n",
       "      <td>2400</td>\n",
       "      <td>145 Borinquen Place</td>\n",
       "      <td>medium</td>\n",
       "    </tr>\n",
       "    <tr>\n",
       "      <th>6</th>\n",
       "      <td>1.0</td>\n",
       "      <td>2</td>\n",
       "      <td>b8e75fc949a6cd8225b455648a951712</td>\n",
       "      <td>2016-06-01 05:44:33</td>\n",
       "      <td>BRAND NEW GUT RENOVATED TRUE 2 BEDROOMFind you...</td>\n",
       "      <td>East 44th</td>\n",
       "      <td>[Doorman, Elevator, Laundry in Building, Dishw...</td>\n",
       "      <td>40.7513</td>\n",
       "      <td>7092344</td>\n",
       "      <td>-73.9722</td>\n",
       "      <td>955db33477af4f40004820b4aed804a0</td>\n",
       "      <td>[https://photos.renthop.com/2/7092344_7663c19a...</td>\n",
       "      <td>3800</td>\n",
       "      <td>230 East 44th</td>\n",
       "      <td>low</td>\n",
       "    </tr>\n",
       "    <tr>\n",
       "      <th>9</th>\n",
       "      <td>1.0</td>\n",
       "      <td>2</td>\n",
       "      <td>cd759a988b8f23924b5a2058d5ab2b49</td>\n",
       "      <td>2016-06-14 15:19:59</td>\n",
       "      <td>**FLEX 2 BEDROOM WITH FULL PRESSURIZED WALL**L...</td>\n",
       "      <td>East 56th Street</td>\n",
       "      <td>[Doorman, Elevator, Laundry in Building, Laund...</td>\n",
       "      <td>40.7575</td>\n",
       "      <td>7158677</td>\n",
       "      <td>-73.9625</td>\n",
       "      <td>c8b10a317b766204f08e613cef4ce7a0</td>\n",
       "      <td>[https://photos.renthop.com/2/7158677_c897a134...</td>\n",
       "      <td>3495</td>\n",
       "      <td>405 East 56th Street</td>\n",
       "      <td>medium</td>\n",
       "    </tr>\n",
       "    <tr>\n",
       "      <th>10</th>\n",
       "      <td>1.5</td>\n",
       "      <td>3</td>\n",
       "      <td>53a5b119ba8f7b61d4e010512e0dfc85</td>\n",
       "      <td>2016-06-24 07:54:24</td>\n",
       "      <td>A Brand New 3 Bedroom 1.5 bath ApartmentEnjoy ...</td>\n",
       "      <td>Metropolitan Avenue</td>\n",
       "      <td>[]</td>\n",
       "      <td>40.7145</td>\n",
       "      <td>7211212</td>\n",
       "      <td>-73.9425</td>\n",
       "      <td>5ba989232d0489da1b5f2c45f6688adc</td>\n",
       "      <td>[https://photos.renthop.com/2/7211212_1ed4542e...</td>\n",
       "      <td>3000</td>\n",
       "      <td>792 Metropolitan Avenue</td>\n",
       "      <td>medium</td>\n",
       "    </tr>\n",
       "    <tr>\n",
       "      <th>15</th>\n",
       "      <td>1.0</td>\n",
       "      <td>0</td>\n",
       "      <td>bfb9405149bfff42a92980b594c28234</td>\n",
       "      <td>2016-06-28 03:50:23</td>\n",
       "      <td>Over-sized Studio w abundant closets. Availabl...</td>\n",
       "      <td>East 34th Street</td>\n",
       "      <td>[Doorman, Elevator, Fitness Center, Laundry in...</td>\n",
       "      <td>40.7439</td>\n",
       "      <td>7225292</td>\n",
       "      <td>-73.9743</td>\n",
       "      <td>2c3b41f588fbb5234d8a1e885a436cfa</td>\n",
       "      <td>[https://photos.renthop.com/2/7225292_901f1984...</td>\n",
       "      <td>2795</td>\n",
       "      <td>340 East 34th Street</td>\n",
       "      <td>low</td>\n",
       "    </tr>\n",
       "    <tr>\n",
       "      <th>...</th>\n",
       "      <td>...</td>\n",
       "      <td>...</td>\n",
       "      <td>...</td>\n",
       "      <td>...</td>\n",
       "      <td>...</td>\n",
       "      <td>...</td>\n",
       "      <td>...</td>\n",
       "      <td>...</td>\n",
       "      <td>...</td>\n",
       "      <td>...</td>\n",
       "      <td>...</td>\n",
       "      <td>...</td>\n",
       "      <td>...</td>\n",
       "      <td>...</td>\n",
       "      <td>...</td>\n",
       "    </tr>\n",
       "    <tr>\n",
       "      <th>124000</th>\n",
       "      <td>1.0</td>\n",
       "      <td>3</td>\n",
       "      <td>92bbbf38baadfde0576fc496bd41749c</td>\n",
       "      <td>2016-04-05 03:58:33</td>\n",
       "      <td>There is 700 square feet of recently renovated...</td>\n",
       "      <td>W 171 Street</td>\n",
       "      <td>[Elevator, Dishwasher, Hardwood Floors]</td>\n",
       "      <td>40.8433</td>\n",
       "      <td>6824800</td>\n",
       "      <td>-73.9396</td>\n",
       "      <td>a61e21da3ba18c7a3d54cfdcc247e1f8</td>\n",
       "      <td>[https://photos.renthop.com/2/6824800_0682be16...</td>\n",
       "      <td>2800</td>\n",
       "      <td>620 W 171 Street</td>\n",
       "      <td>low</td>\n",
       "    </tr>\n",
       "    <tr>\n",
       "      <th>124002</th>\n",
       "      <td>1.0</td>\n",
       "      <td>2</td>\n",
       "      <td>5565db9b7cba3603834c4aa6f2950960</td>\n",
       "      <td>2016-04-02 02:25:31</td>\n",
       "      <td>2 bedroom apartment with updated kitchen, rece...</td>\n",
       "      <td>Broadway</td>\n",
       "      <td>[Common Outdoor Space, Cats Allowed, Dogs Allo...</td>\n",
       "      <td>40.8198</td>\n",
       "      <td>6813268</td>\n",
       "      <td>-73.9578</td>\n",
       "      <td>8f90e5e10e8a2d7cf997f016d89230eb</td>\n",
       "      <td>[https://photos.renthop.com/2/6813268_1e6fcc32...</td>\n",
       "      <td>2395</td>\n",
       "      <td>3333 Broadway</td>\n",
       "      <td>medium</td>\n",
       "    </tr>\n",
       "    <tr>\n",
       "      <th>124004</th>\n",
       "      <td>1.0</td>\n",
       "      <td>1</td>\n",
       "      <td>67997a128056ee1ed7d046bbb856e3c7</td>\n",
       "      <td>2016-04-26 05:42:03</td>\n",
       "      <td>No Brokers Fee * Never Lived 1 Bedroom 1 Bathr...</td>\n",
       "      <td>210 Brighton 15th St</td>\n",
       "      <td>[Dining Room, Elevator, Pre-War, Laundry in Bu...</td>\n",
       "      <td>40.5765</td>\n",
       "      <td>6927093</td>\n",
       "      <td>-73.9554</td>\n",
       "      <td>a10db4590843d78c784171a107bdacb4</td>\n",
       "      <td>[https://photos.renthop.com/2/6927093_93a52104...</td>\n",
       "      <td>1850</td>\n",
       "      <td>210 Brighton 15th St</td>\n",
       "      <td>medium</td>\n",
       "    </tr>\n",
       "    <tr>\n",
       "      <th>124008</th>\n",
       "      <td>1.0</td>\n",
       "      <td>2</td>\n",
       "      <td>3c0574a740154806c18bdf1fddd3d966</td>\n",
       "      <td>2016-04-19 02:47:33</td>\n",
       "      <td>Wonderful Bright Chelsea 2 Bedroom apartment o...</td>\n",
       "      <td>West 21st Street</td>\n",
       "      <td>[Pre-War, Laundry in Unit, Dishwasher, No Fee,...</td>\n",
       "      <td>40.7448</td>\n",
       "      <td>6892816</td>\n",
       "      <td>-74.0017</td>\n",
       "      <td>c3cd45f4381ac371507090e9ffabea80</td>\n",
       "      <td>[https://photos.renthop.com/2/6892816_1a8d087a...</td>\n",
       "      <td>4195</td>\n",
       "      <td>350 West 21st Street</td>\n",
       "      <td>medium</td>\n",
       "    </tr>\n",
       "    <tr>\n",
       "      <th>124009</th>\n",
       "      <td>1.0</td>\n",
       "      <td>3</td>\n",
       "      <td>d89f514c3ed0abaae52cba7017ac0701</td>\n",
       "      <td>2016-04-20 05:34:00</td>\n",
       "      <td>***PRIME MIDTOWN EAST OFF PARK AVE***TRUE 3 BE...</td>\n",
       "      <td>E 54th St</td>\n",
       "      <td>[Dining Room, Elevator, Laundry in Building, D...</td>\n",
       "      <td>40.7594</td>\n",
       "      <td>6901023</td>\n",
       "      <td>-73.9712</td>\n",
       "      <td>e90f2ded843cdb2efd65ef47d9fc8029</td>\n",
       "      <td>[https://photos.renthop.com/2/6901023_02052d90...</td>\n",
       "      <td>4280</td>\n",
       "      <td>123 E 54th St</td>\n",
       "      <td>high</td>\n",
       "    </tr>\n",
       "  </tbody>\n",
       "</table>\n",
       "<p>49352 rows × 15 columns</p>\n",
       "</div>"
      ],
      "text/plain": [
       "        bathrooms  bedrooms                       building_id  \\\n",
       "4             1.0         1  8579a0b0d54db803821a35a4a615e97a   \n",
       "6             1.0         2  b8e75fc949a6cd8225b455648a951712   \n",
       "9             1.0         2  cd759a988b8f23924b5a2058d5ab2b49   \n",
       "10            1.5         3  53a5b119ba8f7b61d4e010512e0dfc85   \n",
       "15            1.0         0  bfb9405149bfff42a92980b594c28234   \n",
       "...           ...       ...                               ...   \n",
       "124000        1.0         3  92bbbf38baadfde0576fc496bd41749c   \n",
       "124002        1.0         2  5565db9b7cba3603834c4aa6f2950960   \n",
       "124004        1.0         1  67997a128056ee1ed7d046bbb856e3c7   \n",
       "124008        1.0         2  3c0574a740154806c18bdf1fddd3d966   \n",
       "124009        1.0         3  d89f514c3ed0abaae52cba7017ac0701   \n",
       "\n",
       "                    created  \\\n",
       "4       2016-06-16 05:55:27   \n",
       "6       2016-06-01 05:44:33   \n",
       "9       2016-06-14 15:19:59   \n",
       "10      2016-06-24 07:54:24   \n",
       "15      2016-06-28 03:50:23   \n",
       "...                     ...   \n",
       "124000  2016-04-05 03:58:33   \n",
       "124002  2016-04-02 02:25:31   \n",
       "124004  2016-04-26 05:42:03   \n",
       "124008  2016-04-19 02:47:33   \n",
       "124009  2016-04-20 05:34:00   \n",
       "\n",
       "                                              description  \\\n",
       "4       Spacious 1 Bedroom 1 Bathroom in Williamsburg!...   \n",
       "6       BRAND NEW GUT RENOVATED TRUE 2 BEDROOMFind you...   \n",
       "9       **FLEX 2 BEDROOM WITH FULL PRESSURIZED WALL**L...   \n",
       "10      A Brand New 3 Bedroom 1.5 bath ApartmentEnjoy ...   \n",
       "15      Over-sized Studio w abundant closets. Availabl...   \n",
       "...                                                   ...   \n",
       "124000  There is 700 square feet of recently renovated...   \n",
       "124002  2 bedroom apartment with updated kitchen, rece...   \n",
       "124004  No Brokers Fee * Never Lived 1 Bedroom 1 Bathr...   \n",
       "124008  Wonderful Bright Chelsea 2 Bedroom apartment o...   \n",
       "124009  ***PRIME MIDTOWN EAST OFF PARK AVE***TRUE 3 BE...   \n",
       "\n",
       "             display_address  \\\n",
       "4        145 Borinquen Place   \n",
       "6                  East 44th   \n",
       "9           East 56th Street   \n",
       "10       Metropolitan Avenue   \n",
       "15          East 34th Street   \n",
       "...                      ...   \n",
       "124000          W 171 Street   \n",
       "124002              Broadway   \n",
       "124004  210 Brighton 15th St   \n",
       "124008      West 21st Street   \n",
       "124009             E 54th St   \n",
       "\n",
       "                                                 features  latitude  \\\n",
       "4       [Dining Room, Pre-War, Laundry in Building, Di...   40.7108   \n",
       "6       [Doorman, Elevator, Laundry in Building, Dishw...   40.7513   \n",
       "9       [Doorman, Elevator, Laundry in Building, Laund...   40.7575   \n",
       "10                                                     []   40.7145   \n",
       "15      [Doorman, Elevator, Fitness Center, Laundry in...   40.7439   \n",
       "...                                                   ...       ...   \n",
       "124000            [Elevator, Dishwasher, Hardwood Floors]   40.8433   \n",
       "124002  [Common Outdoor Space, Cats Allowed, Dogs Allo...   40.8198   \n",
       "124004  [Dining Room, Elevator, Pre-War, Laundry in Bu...   40.5765   \n",
       "124008  [Pre-War, Laundry in Unit, Dishwasher, No Fee,...   40.7448   \n",
       "124009  [Dining Room, Elevator, Laundry in Building, D...   40.7594   \n",
       "\n",
       "        listing_id  longitude                        manager_id  \\\n",
       "4          7170325   -73.9539  a10db4590843d78c784171a107bdacb4   \n",
       "6          7092344   -73.9722  955db33477af4f40004820b4aed804a0   \n",
       "9          7158677   -73.9625  c8b10a317b766204f08e613cef4ce7a0   \n",
       "10         7211212   -73.9425  5ba989232d0489da1b5f2c45f6688adc   \n",
       "15         7225292   -73.9743  2c3b41f588fbb5234d8a1e885a436cfa   \n",
       "...            ...        ...                               ...   \n",
       "124000     6824800   -73.9396  a61e21da3ba18c7a3d54cfdcc247e1f8   \n",
       "124002     6813268   -73.9578  8f90e5e10e8a2d7cf997f016d89230eb   \n",
       "124004     6927093   -73.9554  a10db4590843d78c784171a107bdacb4   \n",
       "124008     6892816   -74.0017  c3cd45f4381ac371507090e9ffabea80   \n",
       "124009     6901023   -73.9712  e90f2ded843cdb2efd65ef47d9fc8029   \n",
       "\n",
       "                                                   photos  price  \\\n",
       "4       [https://photos.renthop.com/2/7170325_3bb5ac84...   2400   \n",
       "6       [https://photos.renthop.com/2/7092344_7663c19a...   3800   \n",
       "9       [https://photos.renthop.com/2/7158677_c897a134...   3495   \n",
       "10      [https://photos.renthop.com/2/7211212_1ed4542e...   3000   \n",
       "15      [https://photos.renthop.com/2/7225292_901f1984...   2795   \n",
       "...                                                   ...    ...   \n",
       "124000  [https://photos.renthop.com/2/6824800_0682be16...   2800   \n",
       "124002  [https://photos.renthop.com/2/6813268_1e6fcc32...   2395   \n",
       "124004  [https://photos.renthop.com/2/6927093_93a52104...   1850   \n",
       "124008  [https://photos.renthop.com/2/6892816_1a8d087a...   4195   \n",
       "124009  [https://photos.renthop.com/2/6901023_02052d90...   4280   \n",
       "\n",
       "                 street_address interest_level  \n",
       "4           145 Borinquen Place         medium  \n",
       "6                 230 East 44th            low  \n",
       "9          405 East 56th Street         medium  \n",
       "10      792 Metropolitan Avenue         medium  \n",
       "15         340 East 34th Street            low  \n",
       "...                         ...            ...  \n",
       "124000         620 W 171 Street            low  \n",
       "124002            3333 Broadway         medium  \n",
       "124004     210 Brighton 15th St         medium  \n",
       "124008     350 West 21st Street         medium  \n",
       "124009            123 E 54th St           high  \n",
       "\n",
       "[49352 rows x 15 columns]"
      ]
     },
     "execution_count": 139,
     "metadata": {},
     "output_type": "execute_result"
    }
   ],
   "source": [
    "df"
   ]
  },
  {
   "cell_type": "code",
   "execution_count": 140,
   "id": "79557420-da04-4571-8727-29f76a97959f",
   "metadata": {},
   "outputs": [
    {
     "data": {
      "text/plain": [
       "(49352, 15)"
      ]
     },
     "execution_count": 140,
     "metadata": {},
     "output_type": "execute_result"
    }
   ],
   "source": [
    "# What is the size of your data?\n",
    "df.shape"
   ]
  },
  {
   "cell_type": "code",
   "execution_count": 141,
   "id": "0704fed4-e218-4414-b3f6-3c5b13a2cab7",
   "metadata": {},
   "outputs": [
    {
     "data": {
      "text/plain": [
       "Index(['bathrooms', 'bedrooms', 'building_id', 'created', 'description',\n",
       "       'display_address', 'features', 'latitude', 'listing_id', 'longitude',\n",
       "       'manager_id', 'photos', 'price', 'street_address', 'interest_level'],\n",
       "      dtype='object')"
      ]
     },
     "execution_count": 141,
     "metadata": {},
     "output_type": "execute_result"
    }
   ],
   "source": [
    "# Print the list of columns. Which column is a target?\n",
    "df.columns"
   ]
  },
  {
   "cell_type": "code",
   "execution_count": 142,
   "id": "35c1a938-ae01-43f4-9419-eaae93916df7",
   "metadata": {},
   "outputs": [
    {
     "name": "stdout",
     "output_type": "stream",
     "text": [
      "<class 'pandas.core.frame.DataFrame'>\n",
      "Index: 49352 entries, 4 to 124009\n",
      "Data columns (total 15 columns):\n",
      " #   Column           Non-Null Count  Dtype  \n",
      "---  ------           --------------  -----  \n",
      " 0   bathrooms        49352 non-null  float64\n",
      " 1   bedrooms         49352 non-null  int64  \n",
      " 2   building_id      49352 non-null  object \n",
      " 3   created          49352 non-null  object \n",
      " 4   description      49352 non-null  object \n",
      " 5   display_address  49352 non-null  object \n",
      " 6   features         49352 non-null  object \n",
      " 7   latitude         49352 non-null  float64\n",
      " 8   listing_id       49352 non-null  int64  \n",
      " 9   longitude        49352 non-null  float64\n",
      " 10  manager_id       49352 non-null  object \n",
      " 11  photos           49352 non-null  object \n",
      " 12  price            49352 non-null  int64  \n",
      " 13  street_address   49352 non-null  object \n",
      " 14  interest_level   49352 non-null  object \n",
      "dtypes: float64(3), int64(3), object(9)\n",
      "memory usage: 6.0+ MB\n",
      "None\n",
      "         bathrooms      bedrooms      latitude    listing_id     longitude  \\\n",
      "count  49352.00000  49352.000000  49352.000000  4.935200e+04  49352.000000   \n",
      "mean       1.21218      1.541640     40.741545  7.024055e+06    -73.955716   \n",
      "std        0.50142      1.115018      0.638535  1.262746e+05      1.177912   \n",
      "min        0.00000      0.000000      0.000000  6.811957e+06   -118.271000   \n",
      "25%        1.00000      1.000000     40.728300  6.915888e+06    -73.991700   \n",
      "50%        1.00000      1.000000     40.751800  7.021070e+06    -73.977900   \n",
      "75%        1.00000      2.000000     40.774300  7.128733e+06    -73.954800   \n",
      "max       10.00000      8.000000     44.883500  7.753784e+06      0.000000   \n",
      "\n",
      "              price  \n",
      "count  4.935200e+04  \n",
      "mean   3.830174e+03  \n",
      "std    2.206687e+04  \n",
      "min    4.300000e+01  \n",
      "25%    2.500000e+03  \n",
      "50%    3.150000e+03  \n",
      "75%    4.100000e+03  \n",
      "max    4.490000e+06  \n"
     ]
    }
   ],
   "source": [
    "# Make a quick analysis of the data: use the methods info(), describe(), corr(). Explain the results of the outputs. Are there any empty columns?\n",
    "print(df.info())\n",
    "print(df.describe())"
   ]
  },
  {
   "cell_type": "code",
   "execution_count": 143,
   "id": "21decb23-125c-4eeb-b5de-a0a1df080e61",
   "metadata": {},
   "outputs": [
    {
     "name": "stdout",
     "output_type": "stream",
     "text": [
      "            bathrooms  bedrooms  latitude  listing_id  longitude     price\n",
      "bathrooms    1.000000  0.533446 -0.009657    0.000776   0.010393  0.069661\n",
      "bedrooms     0.533446  1.000000 -0.004745    0.011968   0.006892  0.051788\n",
      "latitude    -0.009657 -0.004745  1.000000    0.001712  -0.966807 -0.000707\n",
      "listing_id   0.000776  0.011968  0.001712    1.000000  -0.000907  0.008090\n",
      "longitude    0.010393  0.006892 -0.966807   -0.000907   1.000000 -0.000087\n",
      "price        0.069661  0.051788 -0.000707    0.008090  -0.000087  1.000000\n"
     ]
    }
   ],
   "source": [
    "numeric_df = df.select_dtypes(include='number')\n",
    "print(numeric_df.corr())"
   ]
  },
  {
   "cell_type": "code",
   "execution_count": 144,
   "id": "5f071e2c-f562-495d-85b3-4ee7d8c78be5",
   "metadata": {},
   "outputs": [
    {
     "data": {
      "text/plain": [
       "bathrooms          0\n",
       "bedrooms           0\n",
       "building_id        0\n",
       "created            0\n",
       "description        0\n",
       "display_address    0\n",
       "features           0\n",
       "latitude           0\n",
       "listing_id         0\n",
       "longitude          0\n",
       "manager_id         0\n",
       "photos             0\n",
       "price              0\n",
       "street_address     0\n",
       "interest_level     0\n",
       "dtype: int64"
      ]
     },
     "execution_count": 144,
     "metadata": {},
     "output_type": "execute_result"
    }
   ],
   "source": [
    "df.isna().sum()"
   ]
  },
  {
   "cell_type": "code",
   "execution_count": 145,
   "id": "3baa4e45-6f20-4b4a-ac37-535fb38a51d1",
   "metadata": {},
   "outputs": [],
   "source": [
    "# We'll work with only 3 features: 'bathrooms', 'bedrooms', 'interest_level' and with the target column 'price'. Create a dataframe with only these columns.\n",
    "df = df[['bathrooms', 'bedrooms', 'interest_level', 'price']]"
   ]
  },
  {
   "cell_type": "code",
   "execution_count": 146,
   "id": "8d216b77-45e8-4401-9ba2-b822731c5824",
   "metadata": {},
   "outputs": [
    {
     "data": {
      "text/html": [
       "<div>\n",
       "<style scoped>\n",
       "    .dataframe tbody tr th:only-of-type {\n",
       "        vertical-align: middle;\n",
       "    }\n",
       "\n",
       "    .dataframe tbody tr th {\n",
       "        vertical-align: top;\n",
       "    }\n",
       "\n",
       "    .dataframe thead th {\n",
       "        text-align: right;\n",
       "    }\n",
       "</style>\n",
       "<table border=\"1\" class=\"dataframe\">\n",
       "  <thead>\n",
       "    <tr style=\"text-align: right;\">\n",
       "      <th></th>\n",
       "      <th>bathrooms</th>\n",
       "      <th>bedrooms</th>\n",
       "      <th>interest_level</th>\n",
       "      <th>price</th>\n",
       "    </tr>\n",
       "  </thead>\n",
       "  <tbody>\n",
       "    <tr>\n",
       "      <th>4</th>\n",
       "      <td>1.0</td>\n",
       "      <td>1</td>\n",
       "      <td>medium</td>\n",
       "      <td>2400</td>\n",
       "    </tr>\n",
       "    <tr>\n",
       "      <th>6</th>\n",
       "      <td>1.0</td>\n",
       "      <td>2</td>\n",
       "      <td>low</td>\n",
       "      <td>3800</td>\n",
       "    </tr>\n",
       "    <tr>\n",
       "      <th>9</th>\n",
       "      <td>1.0</td>\n",
       "      <td>2</td>\n",
       "      <td>medium</td>\n",
       "      <td>3495</td>\n",
       "    </tr>\n",
       "    <tr>\n",
       "      <th>10</th>\n",
       "      <td>1.5</td>\n",
       "      <td>3</td>\n",
       "      <td>medium</td>\n",
       "      <td>3000</td>\n",
       "    </tr>\n",
       "    <tr>\n",
       "      <th>15</th>\n",
       "      <td>1.0</td>\n",
       "      <td>0</td>\n",
       "      <td>low</td>\n",
       "      <td>2795</td>\n",
       "    </tr>\n",
       "    <tr>\n",
       "      <th>...</th>\n",
       "      <td>...</td>\n",
       "      <td>...</td>\n",
       "      <td>...</td>\n",
       "      <td>...</td>\n",
       "    </tr>\n",
       "    <tr>\n",
       "      <th>124000</th>\n",
       "      <td>1.0</td>\n",
       "      <td>3</td>\n",
       "      <td>low</td>\n",
       "      <td>2800</td>\n",
       "    </tr>\n",
       "    <tr>\n",
       "      <th>124002</th>\n",
       "      <td>1.0</td>\n",
       "      <td>2</td>\n",
       "      <td>medium</td>\n",
       "      <td>2395</td>\n",
       "    </tr>\n",
       "    <tr>\n",
       "      <th>124004</th>\n",
       "      <td>1.0</td>\n",
       "      <td>1</td>\n",
       "      <td>medium</td>\n",
       "      <td>1850</td>\n",
       "    </tr>\n",
       "    <tr>\n",
       "      <th>124008</th>\n",
       "      <td>1.0</td>\n",
       "      <td>2</td>\n",
       "      <td>medium</td>\n",
       "      <td>4195</td>\n",
       "    </tr>\n",
       "    <tr>\n",
       "      <th>124009</th>\n",
       "      <td>1.0</td>\n",
       "      <td>3</td>\n",
       "      <td>high</td>\n",
       "      <td>4280</td>\n",
       "    </tr>\n",
       "  </tbody>\n",
       "</table>\n",
       "<p>49352 rows × 4 columns</p>\n",
       "</div>"
      ],
      "text/plain": [
       "        bathrooms  bedrooms interest_level  price\n",
       "4             1.0         1         medium   2400\n",
       "6             1.0         2            low   3800\n",
       "9             1.0         2         medium   3495\n",
       "10            1.5         3         medium   3000\n",
       "15            1.0         0            low   2795\n",
       "...           ...       ...            ...    ...\n",
       "124000        1.0         3            low   2800\n",
       "124002        1.0         2         medium   2395\n",
       "124004        1.0         1         medium   1850\n",
       "124008        1.0         2         medium   4195\n",
       "124009        1.0         3           high   4280\n",
       "\n",
       "[49352 rows x 4 columns]"
      ]
     },
     "execution_count": 146,
     "metadata": {},
     "output_type": "execute_result"
    }
   ],
   "source": [
    "df"
   ]
  },
  {
   "cell_type": "markdown",
   "id": "5f2a1b43-c800-482c-88a3-1b2fd790171b",
   "metadata": {},
   "source": [
    "## Statistical Data Analysis"
   ]
  },
  {
   "cell_type": "markdown",
   "id": "e42c85b8-a2ef-4a98-9a20-facfcad89853",
   "metadata": {},
   "source": [
    "#### Target Analysis"
   ]
  },
  {
   "cell_type": "code",
   "execution_count": 147,
   "id": "e4e597c4-53d1-4058-b09c-043c62a43ec0",
   "metadata": {},
   "outputs": [
    {
     "data": {
      "text/plain": [
       "<bound method Series.unique of 4         2400\n",
       "6         3800\n",
       "9         3495\n",
       "10        3000\n",
       "15        2795\n",
       "          ... \n",
       "124000    2800\n",
       "124002    2395\n",
       "124004    1850\n",
       "124008    4195\n",
       "124009    4280\n",
       "Name: price, Length: 49352, dtype: int64>"
      ]
     },
     "execution_count": 147,
     "metadata": {},
     "output_type": "execute_result"
    }
   ],
   "source": [
    "df['price'].unique"
   ]
  },
  {
   "cell_type": "code",
   "execution_count": 148,
   "id": "1ffbbe52-ef63-4af6-a783-99057c0e9340",
   "metadata": {},
   "outputs": [
    {
     "data": {
      "image/png": "[encoded data removed]",
      "text/plain": [
       "<Figure size 640x480 with 1 Axes>"
      ]
     },
     "metadata": {},
     "output_type": "display_data"
    }
   ],
   "source": [
    "plt.hist(df['price'], bins=1000, range=(0, 100000))\n",
    "plt.xlim(0, 20000)\n",
    "plt.title('График распределения целевой переменной')\n",
    "plt.show()"
   ]
  },
  {
   "cell_type": "code",
   "execution_count": 149,
   "id": "e611c0ce-3a54-4933-be5c-8f3fcf43855e",
   "metadata": {},
   "outputs": [
    {
     "data": {
      "image/png": "[encoded data removed]",
      "text/plain": [
       "<Figure size 640x480 with 1 Axes>"
      ]
     },
     "metadata": {},
     "output_type": "display_data"
    }
   ],
   "source": [
    "df_filtered = df[df['price'] < 100000]\n",
    "sns.boxplot(x=df_filtered['price']);"
   ]
  },
  {
   "cell_type": "code",
   "execution_count": 150,
   "id": "276d6689-b9f3-42e4-82af-77044eb2577e",
   "metadata": {},
   "outputs": [
    {
     "name": "stdout",
     "output_type": "stream",
     "text": [
      "percentile_1 is 1475.0\n",
      "percentile_99 is 13000.0\n"
     ]
    }
   ],
   "source": [
    "percentile_1 = np.percentile(df['price'], 1)\n",
    "percentile_99 = np.percentile(df['price'], 99)\n",
    "print(f'percentile_1 is {percentile_1}')\n",
    "print(f'percentile_99 is {percentile_99}')"
   ]
  },
  {
   "cell_type": "code",
   "execution_count": 151,
   "id": "b4caa290-435e-40ca-b47a-a2b1cab01538",
   "metadata": {},
   "outputs": [],
   "source": [
    "df = df[(df['price'] >= percentile_1) & (df['price'] <= percentile_99)]"
   ]
  },
  {
   "cell_type": "code",
   "execution_count": 152,
   "id": "57f24923-b530-4c39-9111-564bfe5bda09",
   "metadata": {},
   "outputs": [
    {
     "data": {
      "text/html": [
       "<div>\n",
       "<style scoped>\n",
       "    .dataframe tbody tr th:only-of-type {\n",
       "        vertical-align: middle;\n",
       "    }\n",
       "\n",
       "    .dataframe tbody tr th {\n",
       "        vertical-align: top;\n",
       "    }\n",
       "\n",
       "    .dataframe thead th {\n",
       "        text-align: right;\n",
       "    }\n",
       "</style>\n",
       "<table border=\"1\" class=\"dataframe\">\n",
       "  <thead>\n",
       "    <tr style=\"text-align: right;\">\n",
       "      <th></th>\n",
       "      <th>bathrooms</th>\n",
       "      <th>bedrooms</th>\n",
       "      <th>interest_level</th>\n",
       "      <th>price</th>\n",
       "    </tr>\n",
       "  </thead>\n",
       "  <tbody>\n",
       "    <tr>\n",
       "      <th>4</th>\n",
       "      <td>1.0</td>\n",
       "      <td>1</td>\n",
       "      <td>medium</td>\n",
       "      <td>2400</td>\n",
       "    </tr>\n",
       "    <tr>\n",
       "      <th>6</th>\n",
       "      <td>1.0</td>\n",
       "      <td>2</td>\n",
       "      <td>low</td>\n",
       "      <td>3800</td>\n",
       "    </tr>\n",
       "    <tr>\n",
       "      <th>9</th>\n",
       "      <td>1.0</td>\n",
       "      <td>2</td>\n",
       "      <td>medium</td>\n",
       "      <td>3495</td>\n",
       "    </tr>\n",
       "    <tr>\n",
       "      <th>10</th>\n",
       "      <td>1.5</td>\n",
       "      <td>3</td>\n",
       "      <td>medium</td>\n",
       "      <td>3000</td>\n",
       "    </tr>\n",
       "    <tr>\n",
       "      <th>15</th>\n",
       "      <td>1.0</td>\n",
       "      <td>0</td>\n",
       "      <td>low</td>\n",
       "      <td>2795</td>\n",
       "    </tr>\n",
       "    <tr>\n",
       "      <th>...</th>\n",
       "      <td>...</td>\n",
       "      <td>...</td>\n",
       "      <td>...</td>\n",
       "      <td>...</td>\n",
       "    </tr>\n",
       "    <tr>\n",
       "      <th>124000</th>\n",
       "      <td>1.0</td>\n",
       "      <td>3</td>\n",
       "      <td>low</td>\n",
       "      <td>2800</td>\n",
       "    </tr>\n",
       "    <tr>\n",
       "      <th>124002</th>\n",
       "      <td>1.0</td>\n",
       "      <td>2</td>\n",
       "      <td>medium</td>\n",
       "      <td>2395</td>\n",
       "    </tr>\n",
       "    <tr>\n",
       "      <th>124004</th>\n",
       "      <td>1.0</td>\n",
       "      <td>1</td>\n",
       "      <td>medium</td>\n",
       "      <td>1850</td>\n",
       "    </tr>\n",
       "    <tr>\n",
       "      <th>124008</th>\n",
       "      <td>1.0</td>\n",
       "      <td>2</td>\n",
       "      <td>medium</td>\n",
       "      <td>4195</td>\n",
       "    </tr>\n",
       "    <tr>\n",
       "      <th>124009</th>\n",
       "      <td>1.0</td>\n",
       "      <td>3</td>\n",
       "      <td>high</td>\n",
       "      <td>4280</td>\n",
       "    </tr>\n",
       "  </tbody>\n",
       "</table>\n",
       "<p>48379 rows × 4 columns</p>\n",
       "</div>"
      ],
      "text/plain": [
       "        bathrooms  bedrooms interest_level  price\n",
       "4             1.0         1         medium   2400\n",
       "6             1.0         2            low   3800\n",
       "9             1.0         2         medium   3495\n",
       "10            1.5         3         medium   3000\n",
       "15            1.0         0            low   2795\n",
       "...           ...       ...            ...    ...\n",
       "124000        1.0         3            low   2800\n",
       "124002        1.0         2         medium   2395\n",
       "124004        1.0         1         medium   1850\n",
       "124008        1.0         2         medium   4195\n",
       "124009        1.0         3           high   4280\n",
       "\n",
       "[48379 rows x 4 columns]"
      ]
     },
     "execution_count": 152,
     "metadata": {},
     "output_type": "execute_result"
    }
   ],
   "source": [
    "df"
   ]
  },
  {
   "cell_type": "code",
   "execution_count": 153,
   "id": "dd6b0685-4482-4161-a6b7-3c827476099f",
   "metadata": {},
   "outputs": [
    {
     "data": {
      "text/plain": [
       "(array([ 5127.,  9766., 10808.,  7705.,  4636.,  3047.,  2533.,  1514.,\n",
       "         1062.,   578.,   371.,   331.,   163.,   189.,   157.,    46.,\n",
       "          114.,    58.,    84.,    90.]),\n",
       " array([ 1475.  ,  2051.25,  2627.5 ,  3203.75,  3780.  ,  4356.25,\n",
       "         4932.5 ,  5508.75,  6085.  ,  6661.25,  7237.5 ,  7813.75,\n",
       "         8390.  ,  8966.25,  9542.5 , 10118.75, 10695.  , 11271.25,\n",
       "        11847.5 , 12423.75, 13000.  ]),\n",
       " <BarContainer object of 20 artists>)"
      ]
     },
     "execution_count": 153,
     "metadata": {},
     "output_type": "execute_result"
    },
    {
     "data": {
      "image/png": "[encoded data removed]",
      "text/plain": [
       "<Figure size 640x480 with 1 Axes>"
      ]
     },
     "metadata": {},
     "output_type": "display_data"
    }
   ],
   "source": [
    "plt.hist(df['price'], bins=20)"
   ]
  },
  {
   "cell_type": "markdown",
   "id": "eefab388-bcd5-4ebe-9608-87c55ae08a6f",
   "metadata": {},
   "source": [
    "#### Characteristics Analysis"
   ]
  },
  {
   "cell_type": "code",
   "execution_count": 154,
   "id": "f26b1163-67c6-4946-92ad-c22e78a4b006",
   "metadata": {},
   "outputs": [
    {
     "name": "stdout",
     "output_type": "stream",
     "text": [
      "<class 'pandas.core.series.Series'>\n",
      "Index: 48379 entries, 4 to 124009\n",
      "Series name: interest_level\n",
      "Non-Null Count  Dtype \n",
      "--------------  ----- \n",
      "48379 non-null  object\n",
      "dtypes: object(1)\n",
      "memory usage: 755.9+ KB\n"
     ]
    }
   ],
   "source": [
    "df['interest_level'].info()"
   ]
  },
  {
   "cell_type": "code",
   "execution_count": 155,
   "id": "0d7e36bb-19f9-4d55-9eef-603e6e0ead89",
   "metadata": {},
   "outputs": [
    {
     "data": {
      "text/plain": [
       "interest_level\n",
       "low       33697\n",
       "medium    11116\n",
       "high       3566\n",
       "Name: count, dtype: int64"
      ]
     },
     "execution_count": 155,
     "metadata": {},
     "output_type": "execute_result"
    }
   ],
   "source": [
    "df['interest_level'].value_counts()"
   ]
  },
  {
   "cell_type": "code",
   "execution_count": 156,
   "id": "ebc2e886-f606-4ea6-80c1-69b4e6fc8f3c",
   "metadata": {},
   "outputs": [
    {
     "name": "stderr",
     "output_type": "stream",
     "text": [
      "/var/folders/c1/vlhtp151719c1jl628x1pcrm0000gn/T/ipykernel_8741/3401095703.py:1: FutureWarning: Downcasting behavior in `replace` is deprecated and will be removed in a future version. To retain the old behavior, explicitly call `result.infer_objects(copy=False)`. To opt-in to the future behavior, set `pd.set_option('future.no_silent_downcasting', True)`\n",
      "  df['interest_level'] = df['interest_level'].replace({'low': 0, 'medium': 1, 'high': 2})\n",
      "/var/folders/c1/vlhtp151719c1jl628x1pcrm0000gn/T/ipykernel_8741/3401095703.py:1: SettingWithCopyWarning: \n",
      "A value is trying to be set on a copy of a slice from a DataFrame.\n",
      "Try using .loc[row_indexer,col_indexer] = value instead\n",
      "\n",
      "See the caveats in the documentation: https://pandas.pydata.org/pandas-docs/stable/user_guide/indexing.html#returning-a-view-versus-a-copy\n",
      "  df['interest_level'] = df['interest_level'].replace({'low': 0, 'medium': 1, 'high': 2})\n"
     ]
    }
   ],
   "source": [
    "df['interest_level'] = df['interest_level'].replace({'low': 0, 'medium': 1, 'high': 2})"
   ]
  },
  {
   "cell_type": "code",
   "execution_count": 157,
   "id": "a6cecc61-ac63-4305-95a4-4523b35af2f3",
   "metadata": {},
   "outputs": [
    {
     "data": {
      "text/plain": [
       "4         1\n",
       "6         0\n",
       "9         1\n",
       "10        1\n",
       "15        0\n",
       "         ..\n",
       "124000    0\n",
       "124002    1\n",
       "124004    1\n",
       "124008    1\n",
       "124009    2\n",
       "Name: interest_level, Length: 48379, dtype: int64"
      ]
     },
     "execution_count": 157,
     "metadata": {},
     "output_type": "execute_result"
    }
   ],
   "source": [
    "df['interest_level']"
   ]
  },
  {
   "cell_type": "code",
   "execution_count": 158,
   "id": "4c29117e-7dad-4f53-ba78-0eb4fa80e7b0",
   "metadata": {},
   "outputs": [
    {
     "data": {
      "image/png": "[encoded data removed]",
      "text/plain": [
       "<Figure size 640x480 with 1 Axes>"
      ]
     },
     "metadata": {},
     "output_type": "display_data"
    }
   ],
   "source": [
    "plt.hist(df['bathrooms'], bins=10);"
   ]
  },
  {
   "cell_type": "code",
   "execution_count": 159,
   "id": "bbe6b9fa-a282-4b66-bd8c-e70bae6d5181",
   "metadata": {},
   "outputs": [
    {
     "data": {
      "text/plain": [
       "(array([9.2010e+03, 1.5540e+04, 1.4546e+04, 7.0610e+03, 0.0000e+00,\n",
       "        1.7780e+03, 2.0600e+02, 4.4000e+01, 1.0000e+00, 2.0000e+00]),\n",
       " array([0. , 0.8, 1.6, 2.4, 3.2, 4. , 4.8, 5.6, 6.4, 7.2, 8. ]),\n",
       " <BarContainer object of 10 artists>)"
      ]
     },
     "execution_count": 159,
     "metadata": {},
     "output_type": "execute_result"
    },
    {
     "data": {
      "image/png": "[encoded data removed]",
      "text/plain": [
       "<Figure size 640x480 with 1 Axes>"
      ]
     },
     "metadata": {},
     "output_type": "display_data"
    }
   ],
   "source": [
    "plt.hist(df['bedrooms'], bins=10)"
   ]
  },
  {
   "cell_type": "markdown",
   "id": "e0c65013-161e-41c4-9c1c-44a01604fd37",
   "metadata": {},
   "source": [
    "#### Complex Analysis"
   ]
  },
  {
   "cell_type": "code",
   "execution_count": 160,
   "id": "1abc2548-d7c9-46ab-a3f5-8a4eba5cf9d6",
   "metadata": {},
   "outputs": [
    {
     "data": {
      "image/png": "[encoded data removed]",
      "text/plain": [
       "<Figure size 640x480 with 2 Axes>"
      ]
     },
     "metadata": {},
     "output_type": "display_data"
    }
   ],
   "source": [
    "corr_matrix = df.corr()\n",
    "sns.heatmap(corr_matrix, annot=True);"
   ]
  },
  {
   "cell_type": "code",
   "execution_count": 161,
   "id": "a9067a21-9483-45e9-aeeb-1280927ee71c",
   "metadata": {},
   "outputs": [
    {
     "data": {
      "image/png": "[encoded data removed]",
      "text/plain": [
       "<Figure size 640x480 with 1 Axes>"
      ]
     },
     "metadata": {},
     "output_type": "display_data"
    }
   ],
   "source": [
    "sns.scatterplot(x=df['price'], y=df['bathrooms']);"
   ]
  },
  {
   "cell_type": "code",
   "execution_count": 162,
   "id": "2c584840-b72a-4538-ad71-b784cb8ef5e2",
   "metadata": {},
   "outputs": [
    {
     "data": {
      "image/png": "[encoded data removed]",
      "text/plain": [
       "<Figure size 640x480 with 1 Axes>"
      ]
     },
     "metadata": {},
     "output_type": "display_data"
    }
   ],
   "source": [
    "sns.scatterplot(x=df['price'], y=df['bedrooms']);"
   ]
  },
  {
   "cell_type": "code",
   "execution_count": 163,
   "id": "f53dadb9-aa43-4896-afac-bc710e4b00c8",
   "metadata": {},
   "outputs": [
    {
     "data": {
      "image/png": "[encoded data removed]",
      "text/plain": [
       "<Figure size 640x480 with 1 Axes>"
      ]
     },
     "metadata": {},
     "output_type": "display_data"
    }
   ],
   "source": [
    "sns.scatterplot(x=df['price'], y=df['interest_level']);"
   ]
  },
  {
   "cell_type": "markdown",
   "id": "5c872ef5-584f-42ff-a509-fb48b50d7634",
   "metadata": {},
   "source": [
    "## Creating Features"
   ]
  },
  {
   "cell_type": "code",
   "execution_count": 164,
   "id": "9cecff93-9ab6-436a-8938-151075095ed8",
   "metadata": {},
   "outputs": [],
   "source": [
    "X_train = df.drop(['price', 'interest_level'], axis=1)\n",
    "y_train = df['price']"
   ]
  },
  {
   "cell_type": "code",
   "execution_count": 165,
   "id": "090505ac-3d9d-45bc-8e99-2e8feb983d50",
   "metadata": {},
   "outputs": [],
   "source": [
    "df_test = pd.read_json('data/test.json')"
   ]
  },
  {
   "cell_type": "code",
   "execution_count": 166,
   "id": "eb595840-d6a2-4e7f-b9dc-df911c779950",
   "metadata": {},
   "outputs": [],
   "source": [
    "df_test = df_test[['bathrooms', 'bedrooms', 'price']]"
   ]
  },
  {
   "cell_type": "code",
   "execution_count": 167,
   "id": "6b32393e-13c9-4bd2-a59c-7fc273265c7b",
   "metadata": {},
   "outputs": [],
   "source": [
    "X_test = df_test.drop('price', axis=1)\n",
    "y_test = df_test['price']"
   ]
  },
  {
   "cell_type": "code",
   "execution_count": 168,
   "id": "4d41eff1-6c19-45d9-93a6-fc707a683b1a",
   "metadata": {},
   "outputs": [],
   "source": [
    "polynomial_converter = PolynomialFeatures(degree=10)\n",
    "polynomial_converter.fit(X_train)\n",
    "\n",
    "X_train_new = pd.DataFrame(data=polynomial_converter.transform(X_train),\n",
    "                           columns=polynomial_converter.get_feature_names_out())\n",
    "X_test_new = pd.DataFrame(data=polynomial_converter.transform(X_test),\n",
    "                          columns=polynomial_converter.get_feature_names_out())"
   ]
  },
  {
   "cell_type": "code",
   "execution_count": 169,
   "id": "1ee1e3e9-3f16-4694-850f-be7e6195866e",
   "metadata": {},
   "outputs": [
    {
     "data": {
      "text/html": [
       "<div>\n",
       "<style scoped>\n",
       "    .dataframe tbody tr th:only-of-type {\n",
       "        vertical-align: middle;\n",
       "    }\n",
       "\n",
       "    .dataframe tbody tr th {\n",
       "        vertical-align: top;\n",
       "    }\n",
       "\n",
       "    .dataframe thead th {\n",
       "        text-align: right;\n",
       "    }\n",
       "</style>\n",
       "<table border=\"1\" class=\"dataframe\">\n",
       "  <thead>\n",
       "    <tr style=\"text-align: right;\">\n",
       "      <th></th>\n",
       "      <th>1</th>\n",
       "      <th>bathrooms</th>\n",
       "      <th>bedrooms</th>\n",
       "      <th>bathrooms^2</th>\n",
       "      <th>bathrooms bedrooms</th>\n",
       "      <th>bedrooms^2</th>\n",
       "      <th>bathrooms^3</th>\n",
       "      <th>bathrooms^2 bedrooms</th>\n",
       "      <th>bathrooms bedrooms^2</th>\n",
       "      <th>bedrooms^3</th>\n",
       "      <th>...</th>\n",
       "      <th>bathrooms^9 bedrooms</th>\n",
       "      <th>bathrooms^8 bedrooms^2</th>\n",
       "      <th>bathrooms^7 bedrooms^3</th>\n",
       "      <th>bathrooms^6 bedrooms^4</th>\n",
       "      <th>bathrooms^5 bedrooms^5</th>\n",
       "      <th>bathrooms^4 bedrooms^6</th>\n",
       "      <th>bathrooms^3 bedrooms^7</th>\n",
       "      <th>bathrooms^2 bedrooms^8</th>\n",
       "      <th>bathrooms bedrooms^9</th>\n",
       "      <th>bedrooms^10</th>\n",
       "    </tr>\n",
       "  </thead>\n",
       "  <tbody>\n",
       "    <tr>\n",
       "      <th>0</th>\n",
       "      <td>1.0</td>\n",
       "      <td>1.0</td>\n",
       "      <td>1.0</td>\n",
       "      <td>1.0</td>\n",
       "      <td>1.0</td>\n",
       "      <td>1.0</td>\n",
       "      <td>1.0</td>\n",
       "      <td>1.0</td>\n",
       "      <td>1.0</td>\n",
       "      <td>1.0</td>\n",
       "      <td>...</td>\n",
       "      <td>1.0</td>\n",
       "      <td>1.0</td>\n",
       "      <td>1.0</td>\n",
       "      <td>1.0</td>\n",
       "      <td>1.0</td>\n",
       "      <td>1.0</td>\n",
       "      <td>1.0</td>\n",
       "      <td>1.0</td>\n",
       "      <td>1.0</td>\n",
       "      <td>1.0</td>\n",
       "    </tr>\n",
       "    <tr>\n",
       "      <th>1</th>\n",
       "      <td>1.0</td>\n",
       "      <td>1.0</td>\n",
       "      <td>2.0</td>\n",
       "      <td>1.0</td>\n",
       "      <td>2.0</td>\n",
       "      <td>4.0</td>\n",
       "      <td>1.0</td>\n",
       "      <td>2.0</td>\n",
       "      <td>4.0</td>\n",
       "      <td>8.0</td>\n",
       "      <td>...</td>\n",
       "      <td>2.0</td>\n",
       "      <td>4.0</td>\n",
       "      <td>8.0</td>\n",
       "      <td>16.0</td>\n",
       "      <td>32.0</td>\n",
       "      <td>64.0</td>\n",
       "      <td>128.0</td>\n",
       "      <td>256.0</td>\n",
       "      <td>512.0</td>\n",
       "      <td>1024.0</td>\n",
       "    </tr>\n",
       "    <tr>\n",
       "      <th>2</th>\n",
       "      <td>1.0</td>\n",
       "      <td>1.0</td>\n",
       "      <td>0.0</td>\n",
       "      <td>1.0</td>\n",
       "      <td>0.0</td>\n",
       "      <td>0.0</td>\n",
       "      <td>1.0</td>\n",
       "      <td>0.0</td>\n",
       "      <td>0.0</td>\n",
       "      <td>0.0</td>\n",
       "      <td>...</td>\n",
       "      <td>0.0</td>\n",
       "      <td>0.0</td>\n",
       "      <td>0.0</td>\n",
       "      <td>0.0</td>\n",
       "      <td>0.0</td>\n",
       "      <td>0.0</td>\n",
       "      <td>0.0</td>\n",
       "      <td>0.0</td>\n",
       "      <td>0.0</td>\n",
       "      <td>0.0</td>\n",
       "    </tr>\n",
       "    <tr>\n",
       "      <th>3</th>\n",
       "      <td>1.0</td>\n",
       "      <td>1.0</td>\n",
       "      <td>2.0</td>\n",
       "      <td>1.0</td>\n",
       "      <td>2.0</td>\n",
       "      <td>4.0</td>\n",
       "      <td>1.0</td>\n",
       "      <td>2.0</td>\n",
       "      <td>4.0</td>\n",
       "      <td>8.0</td>\n",
       "      <td>...</td>\n",
       "      <td>2.0</td>\n",
       "      <td>4.0</td>\n",
       "      <td>8.0</td>\n",
       "      <td>16.0</td>\n",
       "      <td>32.0</td>\n",
       "      <td>64.0</td>\n",
       "      <td>128.0</td>\n",
       "      <td>256.0</td>\n",
       "      <td>512.0</td>\n",
       "      <td>1024.0</td>\n",
       "    </tr>\n",
       "    <tr>\n",
       "      <th>4</th>\n",
       "      <td>1.0</td>\n",
       "      <td>1.0</td>\n",
       "      <td>1.0</td>\n",
       "      <td>1.0</td>\n",
       "      <td>1.0</td>\n",
       "      <td>1.0</td>\n",
       "      <td>1.0</td>\n",
       "      <td>1.0</td>\n",
       "      <td>1.0</td>\n",
       "      <td>1.0</td>\n",
       "      <td>...</td>\n",
       "      <td>1.0</td>\n",
       "      <td>1.0</td>\n",
       "      <td>1.0</td>\n",
       "      <td>1.0</td>\n",
       "      <td>1.0</td>\n",
       "      <td>1.0</td>\n",
       "      <td>1.0</td>\n",
       "      <td>1.0</td>\n",
       "      <td>1.0</td>\n",
       "      <td>1.0</td>\n",
       "    </tr>\n",
       "    <tr>\n",
       "      <th>...</th>\n",
       "      <td>...</td>\n",
       "      <td>...</td>\n",
       "      <td>...</td>\n",
       "      <td>...</td>\n",
       "      <td>...</td>\n",
       "      <td>...</td>\n",
       "      <td>...</td>\n",
       "      <td>...</td>\n",
       "      <td>...</td>\n",
       "      <td>...</td>\n",
       "      <td>...</td>\n",
       "      <td>...</td>\n",
       "      <td>...</td>\n",
       "      <td>...</td>\n",
       "      <td>...</td>\n",
       "      <td>...</td>\n",
       "      <td>...</td>\n",
       "      <td>...</td>\n",
       "      <td>...</td>\n",
       "      <td>...</td>\n",
       "      <td>...</td>\n",
       "    </tr>\n",
       "    <tr>\n",
       "      <th>74654</th>\n",
       "      <td>1.0</td>\n",
       "      <td>1.0</td>\n",
       "      <td>1.0</td>\n",
       "      <td>1.0</td>\n",
       "      <td>1.0</td>\n",
       "      <td>1.0</td>\n",
       "      <td>1.0</td>\n",
       "      <td>1.0</td>\n",
       "      <td>1.0</td>\n",
       "      <td>1.0</td>\n",
       "      <td>...</td>\n",
       "      <td>1.0</td>\n",
       "      <td>1.0</td>\n",
       "      <td>1.0</td>\n",
       "      <td>1.0</td>\n",
       "      <td>1.0</td>\n",
       "      <td>1.0</td>\n",
       "      <td>1.0</td>\n",
       "      <td>1.0</td>\n",
       "      <td>1.0</td>\n",
       "      <td>1.0</td>\n",
       "    </tr>\n",
       "    <tr>\n",
       "      <th>74655</th>\n",
       "      <td>1.0</td>\n",
       "      <td>1.0</td>\n",
       "      <td>2.0</td>\n",
       "      <td>1.0</td>\n",
       "      <td>2.0</td>\n",
       "      <td>4.0</td>\n",
       "      <td>1.0</td>\n",
       "      <td>2.0</td>\n",
       "      <td>4.0</td>\n",
       "      <td>8.0</td>\n",
       "      <td>...</td>\n",
       "      <td>2.0</td>\n",
       "      <td>4.0</td>\n",
       "      <td>8.0</td>\n",
       "      <td>16.0</td>\n",
       "      <td>32.0</td>\n",
       "      <td>64.0</td>\n",
       "      <td>128.0</td>\n",
       "      <td>256.0</td>\n",
       "      <td>512.0</td>\n",
       "      <td>1024.0</td>\n",
       "    </tr>\n",
       "    <tr>\n",
       "      <th>74656</th>\n",
       "      <td>1.0</td>\n",
       "      <td>1.0</td>\n",
       "      <td>0.0</td>\n",
       "      <td>1.0</td>\n",
       "      <td>0.0</td>\n",
       "      <td>0.0</td>\n",
       "      <td>1.0</td>\n",
       "      <td>0.0</td>\n",
       "      <td>0.0</td>\n",
       "      <td>0.0</td>\n",
       "      <td>...</td>\n",
       "      <td>0.0</td>\n",
       "      <td>0.0</td>\n",
       "      <td>0.0</td>\n",
       "      <td>0.0</td>\n",
       "      <td>0.0</td>\n",
       "      <td>0.0</td>\n",
       "      <td>0.0</td>\n",
       "      <td>0.0</td>\n",
       "      <td>0.0</td>\n",
       "      <td>0.0</td>\n",
       "    </tr>\n",
       "    <tr>\n",
       "      <th>74657</th>\n",
       "      <td>1.0</td>\n",
       "      <td>2.0</td>\n",
       "      <td>2.0</td>\n",
       "      <td>4.0</td>\n",
       "      <td>4.0</td>\n",
       "      <td>4.0</td>\n",
       "      <td>8.0</td>\n",
       "      <td>8.0</td>\n",
       "      <td>8.0</td>\n",
       "      <td>8.0</td>\n",
       "      <td>...</td>\n",
       "      <td>1024.0</td>\n",
       "      <td>1024.0</td>\n",
       "      <td>1024.0</td>\n",
       "      <td>1024.0</td>\n",
       "      <td>1024.0</td>\n",
       "      <td>1024.0</td>\n",
       "      <td>1024.0</td>\n",
       "      <td>1024.0</td>\n",
       "      <td>1024.0</td>\n",
       "      <td>1024.0</td>\n",
       "    </tr>\n",
       "    <tr>\n",
       "      <th>74658</th>\n",
       "      <td>1.0</td>\n",
       "      <td>1.0</td>\n",
       "      <td>3.0</td>\n",
       "      <td>1.0</td>\n",
       "      <td>3.0</td>\n",
       "      <td>9.0</td>\n",
       "      <td>1.0</td>\n",
       "      <td>3.0</td>\n",
       "      <td>9.0</td>\n",
       "      <td>27.0</td>\n",
       "      <td>...</td>\n",
       "      <td>3.0</td>\n",
       "      <td>9.0</td>\n",
       "      <td>27.0</td>\n",
       "      <td>81.0</td>\n",
       "      <td>243.0</td>\n",
       "      <td>729.0</td>\n",
       "      <td>2187.0</td>\n",
       "      <td>6561.0</td>\n",
       "      <td>19683.0</td>\n",
       "      <td>59049.0</td>\n",
       "    </tr>\n",
       "  </tbody>\n",
       "</table>\n",
       "<p>74659 rows × 66 columns</p>\n",
       "</div>"
      ],
      "text/plain": [
       "         1  bathrooms  bedrooms  bathrooms^2  bathrooms bedrooms  bedrooms^2  \\\n",
       "0      1.0        1.0       1.0          1.0                 1.0         1.0   \n",
       "1      1.0        1.0       2.0          1.0                 2.0         4.0   \n",
       "2      1.0        1.0       0.0          1.0                 0.0         0.0   \n",
       "3      1.0        1.0       2.0          1.0                 2.0         4.0   \n",
       "4      1.0        1.0       1.0          1.0                 1.0         1.0   \n",
       "...    ...        ...       ...          ...                 ...         ...   \n",
       "74654  1.0        1.0       1.0          1.0                 1.0         1.0   \n",
       "74655  1.0        1.0       2.0          1.0                 2.0         4.0   \n",
       "74656  1.0        1.0       0.0          1.0                 0.0         0.0   \n",
       "74657  1.0        2.0       2.0          4.0                 4.0         4.0   \n",
       "74658  1.0        1.0       3.0          1.0                 3.0         9.0   \n",
       "\n",
       "       bathrooms^3  bathrooms^2 bedrooms  bathrooms bedrooms^2  bedrooms^3  \\\n",
       "0              1.0                   1.0                   1.0         1.0   \n",
       "1              1.0                   2.0                   4.0         8.0   \n",
       "2              1.0                   0.0                   0.0         0.0   \n",
       "3              1.0                   2.0                   4.0         8.0   \n",
       "4              1.0                   1.0                   1.0         1.0   \n",
       "...            ...                   ...                   ...         ...   \n",
       "74654          1.0                   1.0                   1.0         1.0   \n",
       "74655          1.0                   2.0                   4.0         8.0   \n",
       "74656          1.0                   0.0                   0.0         0.0   \n",
       "74657          8.0                   8.0                   8.0         8.0   \n",
       "74658          1.0                   3.0                   9.0        27.0   \n",
       "\n",
       "       ...  bathrooms^9 bedrooms  bathrooms^8 bedrooms^2  \\\n",
       "0      ...                   1.0                     1.0   \n",
       "1      ...                   2.0                     4.0   \n",
       "2      ...                   0.0                     0.0   \n",
       "3      ...                   2.0                     4.0   \n",
       "4      ...                   1.0                     1.0   \n",
       "...    ...                   ...                     ...   \n",
       "74654  ...                   1.0                     1.0   \n",
       "74655  ...                   2.0                     4.0   \n",
       "74656  ...                   0.0                     0.0   \n",
       "74657  ...                1024.0                  1024.0   \n",
       "74658  ...                   3.0                     9.0   \n",
       "\n",
       "       bathrooms^7 bedrooms^3  bathrooms^6 bedrooms^4  bathrooms^5 bedrooms^5  \\\n",
       "0                         1.0                     1.0                     1.0   \n",
       "1                         8.0                    16.0                    32.0   \n",
       "2                         0.0                     0.0                     0.0   \n",
       "3                         8.0                    16.0                    32.0   \n",
       "4                         1.0                     1.0                     1.0   \n",
       "...                       ...                     ...                     ...   \n",
       "74654                     1.0                     1.0                     1.0   \n",
       "74655                     8.0                    16.0                    32.0   \n",
       "74656                     0.0                     0.0                     0.0   \n",
       "74657                  1024.0                  1024.0                  1024.0   \n",
       "74658                    27.0                    81.0                   243.0   \n",
       "\n",
       "       bathrooms^4 bedrooms^6  bathrooms^3 bedrooms^7  bathrooms^2 bedrooms^8  \\\n",
       "0                         1.0                     1.0                     1.0   \n",
       "1                        64.0                   128.0                   256.0   \n",
       "2                         0.0                     0.0                     0.0   \n",
       "3                        64.0                   128.0                   256.0   \n",
       "4                         1.0                     1.0                     1.0   \n",
       "...                       ...                     ...                     ...   \n",
       "74654                     1.0                     1.0                     1.0   \n",
       "74655                    64.0                   128.0                   256.0   \n",
       "74656                     0.0                     0.0                     0.0   \n",
       "74657                  1024.0                  1024.0                  1024.0   \n",
       "74658                   729.0                  2187.0                  6561.0   \n",
       "\n",
       "       bathrooms bedrooms^9  bedrooms^10  \n",
       "0                       1.0          1.0  \n",
       "1                     512.0       1024.0  \n",
       "2                       0.0          0.0  \n",
       "3                     512.0       1024.0  \n",
       "4                       1.0          1.0  \n",
       "...                     ...          ...  \n",
       "74654                   1.0          1.0  \n",
       "74655                 512.0       1024.0  \n",
       "74656                   0.0          0.0  \n",
       "74657                1024.0       1024.0  \n",
       "74658               19683.0      59049.0  \n",
       "\n",
       "[74659 rows x 66 columns]"
      ]
     },
     "execution_count": 169,
     "metadata": {},
     "output_type": "execute_result"
    }
   ],
   "source": [
    "X_test_new"
   ]
  },
  {
   "cell_type": "markdown",
   "id": "758cc58f-55dd-494c-a717-77f64423a623",
   "metadata": {},
   "source": [
    "## Training of 3 Models: linear regression, decision tree and native model"
   ]
  },
  {
   "cell_type": "code",
   "execution_count": 170,
   "id": "b6f9ebfb-ca6e-43f9-9787-4d2b44228c1f",
   "metadata": {},
   "outputs": [],
   "source": [
    "result_MAE = pd.DataFrame(columns=['model', 'train', 'test'])\n",
    "result_RMSE = pd.DataFrame(columns=['model', 'train', 'test'])"
   ]
  },
  {
   "cell_type": "code",
   "execution_count": 171,
   "id": "598c9599-d673-4b97-8a22-5e7de13db527",
   "metadata": {},
   "outputs": [],
   "source": [
    "# Linear Regression\n",
    "model = LinearRegression()\n",
    "model.fit(X_train, y_train)\n",
    "y_pred = model.predict(X_train)\n",
    "train_mae = mean_absolute_error(y_train, y_pred)\n",
    "train_mse = mean_squared_error(y_train, y_pred)\n",
    "train_rmse = np.sqrt(train_mse)\n",
    "\n",
    "y_pred = model.predict(X_test)\n",
    "test_mae = mean_absolute_error(y_test, y_pred)\n",
    "test_mse = mean_squared_error(y_test, y_pred)\n",
    "test_rmse = np.sqrt(test_mse)"
   ]
  },
  {
   "cell_type": "code",
   "execution_count": 172,
   "id": "ed30579d-e246-4c15-9e35-b75bfe7ec055",
   "metadata": {},
   "outputs": [],
   "source": [
    "result_MAE.loc[0] = ['linear_regression', train_mae, test_mae]\n",
    "result_RMSE.loc[0] = ['linear_regression', train_rmse, test_rmse]"
   ]
  },
  {
   "cell_type": "code",
   "execution_count": 173,
   "id": "a2138562-fba1-4b44-bc57-87228f72a09a",
   "metadata": {},
   "outputs": [],
   "source": [
    "# Decision Tree Regression\n",
    "model = DecisionTreeRegressor(random_state=42)\n",
    "model.fit(X_train, y_train)\n",
    "y_pred = model.predict(X_train)\n",
    "train_mae = mean_absolute_error(y_train, y_pred)\n",
    "train_mse = mean_squared_error(y_train, y_pred)\n",
    "train_rmse = np.sqrt(train_mse)\n",
    "\n",
    "y_pred = model.predict(X_test)\n",
    "test_mae = mean_absolute_error(y_test, y_pred)\n",
    "test_mse = mean_squared_error(y_test, y_pred)\n",
    "test_rmse = np.sqrt(test_mse)\n",
    "\n",
    "result_MAE.loc[1] = ['decision_tree', train_mae, test_mae]\n",
    "result_RMSE.loc[1] = ['decision_tree', train_rmse, test_rmse]"
   ]
  },
  {
   "cell_type": "code",
   "execution_count": 174,
   "id": "f9983a4a-53db-4cb6-96c4-0c254c1c4265",
   "metadata": {},
   "outputs": [],
   "source": [
    "# Native Models\n",
    "train_mean_price = np.mean(y_train)\n",
    "train_median_price = np.median(y_train)\n",
    "test_mean_price = np.mean(y_test)\n",
    "test_median_price = np.median(y_test)\n",
    "\n",
    "y_pred = [train_mean_price] * len(y_train)\n",
    "train_mae = mean_absolute_error(y_train, y_pred)\n",
    "train_mse = mean_squared_error(y_train, y_pred)\n",
    "train_rmse = np.sqrt(train_mse)\n",
    "\n",
    "y_pred = [test_mean_price] * len(y_test)\n",
    "test_mae = mean_absolute_error(y_test, y_pred)\n",
    "test_mse = mean_squared_error(y_test, y_pred)\n",
    "test_rmse = np.sqrt(test_mse)\n",
    "\n",
    "result_MAE.loc[2] = ['native_mean', train_mae, test_mae]\n",
    "result_RMSE.loc[2] = ['native_mean', train_rmse, test_rmse]"
   ]
  },
  {
   "cell_type": "code",
   "execution_count": 175,
   "id": "f8ab62b6-036f-4aff-8373-4cfe4690999e",
   "metadata": {},
   "outputs": [],
   "source": [
    "y_pred = [train_median_price] * len(y_train)\n",
    "train_mae = mean_absolute_error(y_train, y_pred)\n",
    "train_mse = mean_squared_error(y_train, y_pred)\n",
    "train_rmse = np.sqrt(train_mse)\n",
    "\n",
    "y_pred = [test_median_price] * len(y_test)\n",
    "test_mae = mean_absolute_error(y_test, y_pred)\n",
    "test_mse = mean_squared_error(y_test, y_pred)\n",
    "test_rmse = np.sqrt(test_mse)\n",
    "\n",
    "result_MAE.loc[3] = ['native_median', train_mae, test_mae]\n",
    "result_RMSE.loc[3] = ['native_median', train_rmse, test_rmse]"
   ]
  },
  {
   "cell_type": "code",
   "execution_count": 176,
   "id": "10fe5b90-56a3-42d9-a9f8-787d5132d225",
   "metadata": {},
   "outputs": [
    {
     "data": {
      "text/html": [
       "<div>\n",
       "<style scoped>\n",
       "    .dataframe tbody tr th:only-of-type {\n",
       "        vertical-align: middle;\n",
       "    }\n",
       "\n",
       "    .dataframe tbody tr th {\n",
       "        vertical-align: top;\n",
       "    }\n",
       "\n",
       "    .dataframe thead th {\n",
       "        text-align: right;\n",
       "    }\n",
       "</style>\n",
       "<table border=\"1\" class=\"dataframe\">\n",
       "  <thead>\n",
       "    <tr style=\"text-align: right;\">\n",
       "      <th></th>\n",
       "      <th>model</th>\n",
       "      <th>train</th>\n",
       "      <th>test</th>\n",
       "    </tr>\n",
       "  </thead>\n",
       "  <tbody>\n",
       "    <tr>\n",
       "      <th>0</th>\n",
       "      <td>linear_regression</td>\n",
       "      <td>784.563837</td>\n",
       "      <td>986.046717</td>\n",
       "    </tr>\n",
       "    <tr>\n",
       "      <th>1</th>\n",
       "      <td>decision_tree</td>\n",
       "      <td>756.044735</td>\n",
       "      <td>953.592155</td>\n",
       "    </tr>\n",
       "    <tr>\n",
       "      <th>2</th>\n",
       "      <td>native_mean</td>\n",
       "      <td>1139.192515</td>\n",
       "      <td>1440.961299</td>\n",
       "    </tr>\n",
       "    <tr>\n",
       "      <th>3</th>\n",
       "      <td>native_median</td>\n",
       "      <td>1086.210505</td>\n",
       "      <td>1322.640673</td>\n",
       "    </tr>\n",
       "  </tbody>\n",
       "</table>\n",
       "</div>"
      ],
      "text/plain": [
       "               model        train         test\n",
       "0  linear_regression   784.563837   986.046717\n",
       "1      decision_tree   756.044735   953.592155\n",
       "2        native_mean  1139.192515  1440.961299\n",
       "3      native_median  1086.210505  1322.640673"
      ]
     },
     "execution_count": 176,
     "metadata": {},
     "output_type": "execute_result"
    }
   ],
   "source": [
    "## Compare the results\n",
    "result_MAE"
   ]
  },
  {
   "cell_type": "code",
   "execution_count": 184,
   "id": "04b0ee3d-b4c4-4b19-988a-98b33d1274ec",
   "metadata": {},
   "outputs": [
    {
     "data": {
      "text/html": [
       "<div>\n",
       "<style scoped>\n",
       "    .dataframe tbody tr th:only-of-type {\n",
       "        vertical-align: middle;\n",
       "    }\n",
       "\n",
       "    .dataframe tbody tr th {\n",
       "        vertical-align: top;\n",
       "    }\n",
       "\n",
       "    .dataframe thead th {\n",
       "        text-align: right;\n",
       "    }\n",
       "</style>\n",
       "<table border=\"1\" class=\"dataframe\">\n",
       "  <thead>\n",
       "    <tr style=\"text-align: right;\">\n",
       "      <th></th>\n",
       "      <th>model</th>\n",
       "      <th>train</th>\n",
       "      <th>test</th>\n",
       "    </tr>\n",
       "  </thead>\n",
       "  <tbody>\n",
       "    <tr>\n",
       "      <th>0</th>\n",
       "      <td>linear_regression</td>\n",
       "      <td>1077.566356</td>\n",
       "      <td>3.958916e+18</td>\n",
       "    </tr>\n",
       "    <tr>\n",
       "      <th>1</th>\n",
       "      <td>decision_tree</td>\n",
       "      <td>1077.483596</td>\n",
       "      <td>9.590243e+03</td>\n",
       "    </tr>\n",
       "    <tr>\n",
       "      <th>2</th>\n",
       "      <td>native_mean</td>\n",
       "      <td>1597.646655</td>\n",
       "      <td>9.713027e+03</td>\n",
       "    </tr>\n",
       "    <tr>\n",
       "      <th>3</th>\n",
       "      <td>native_median</td>\n",
       "      <td>1644.236439</td>\n",
       "      <td>9.731481e+03</td>\n",
       "    </tr>\n",
       "  </tbody>\n",
       "</table>\n",
       "</div>"
      ],
      "text/plain": [
       "               model        train          test\n",
       "0  linear_regression  1077.566356  3.958916e+18\n",
       "1      decision_tree  1077.483596  9.590243e+03\n",
       "2        native_mean  1597.646655  9.713027e+03\n",
       "3      native_median  1644.236439  9.731481e+03"
      ]
     },
     "execution_count": 184,
     "metadata": {},
     "output_type": "execute_result"
    }
   ],
   "source": [
    "result_RMSE"
   ]
  },
  {
   "cell_type": "code",
   "execution_count": null,
   "id": "5e3963b8-1edb-4345-bcc8-9bd63b20ed22",
   "metadata": {},
   "outputs": [],
   "source": []
  },
  {
   "cell_type": "markdown",
   "id": "d9bb2012-a84d-4461-a39c-c0f9e24eaf0a",
   "metadata": {},
   "source": [
    "Best model: DecisionTreeRegressor\n"
   ]
  },
  {
   "cell_type": "markdown",
   "id": "c3c65872-82b6-4fae-bc78-8fdd9cc64328",
   "metadata": {},
   "source": [
    "## Additional\n"
   ]
  },
  {
   "cell_type": "code",
   "execution_count": 178,
   "id": "2dbe77be-0e07-4845-86e8-6cfeeb5b6df4",
   "metadata": {},
   "outputs": [],
   "source": [
    "# Using Polynomial Features\n",
    "result_MAE = pd.DataFrame(columns=['model', 'train', 'test'])\n",
    "result_RMSE = pd.DataFrame(columns=['model', 'train', 'test'])"
   ]
  },
  {
   "cell_type": "code",
   "execution_count": 179,
   "id": "c10ba521-5557-4f8c-b635-7af42d84a997",
   "metadata": {},
   "outputs": [],
   "source": [
    "# Linear Regression\n",
    "model = LinearRegression()\n",
    "model.fit(X_train_new, y_train)\n",
    "y_pred = model.predict(X_train_new)\n",
    "train_mae = mean_absolute_error(y_train, y_pred)\n",
    "train_mse = mean_squared_error(y_train, y_pred)\n",
    "train_rmse = np.sqrt(train_mse)\n",
    "\n",
    "y_pred = model.predict(X_test_new)\n",
    "test_mae = mean_absolute_error(y_test, y_pred)\n",
    "test_mse = mean_squared_error(y_test, y_pred)\n",
    "test_rmse = np.sqrt(test_mse)\n",
    "\n",
    "result_MAE.loc[0] = ['linear_regression', train_mae, test_mae]\n",
    "result_RMSE.loc[0] = ['linear_regression', train_rmse, test_rmse]"
   ]
  },
  {
   "cell_type": "code",
   "execution_count": 180,
   "id": "e9797936-e103-4022-9283-2dd5ec7ba2c4",
   "metadata": {},
   "outputs": [],
   "source": [
    "# Decision Tree Regression\n",
    "model = DecisionTreeRegressor(random_state=42)\n",
    "model.fit(X_train_new, y_train)\n",
    "y_pred = model.predict(X_train_new)\n",
    "train_mae = mean_absolute_error(y_train, y_pred)\n",
    "train_mse = mean_squared_error(y_train, y_pred)\n",
    "train_rmse = np.sqrt(train_mse)\n",
    "\n",
    "y_pred = model.predict(X_test_new)\n",
    "test_mae = mean_absolute_error(y_test, y_pred)\n",
    "test_mse = mean_squared_error(y_test, y_pred)\n",
    "test_rmse = np.sqrt(test_mse)\n",
    "\n",
    "result_MAE.loc[1] = ['decision_tree', train_mae, test_mae]\n",
    "result_RMSE.loc[1] = ['decision_tree', train_rmse, test_rmse]"
   ]
  },
  {
   "cell_type": "code",
   "execution_count": 181,
   "id": "b56dd056-9942-4cec-a513-899e4c7d5eb9",
   "metadata": {},
   "outputs": [],
   "source": [
    "# Native Models\n",
    "train_mean_price = np.mean(y_train)\n",
    "train_median_price = np.median(y_train)\n",
    "test_mean_price = np.mean(y_test)\n",
    "test_median_price = np.median(y_test)\n",
    "\n",
    "y_pred = [train_mean_price] * len(y_train)\n",
    "train_mae = mean_absolute_error(y_train, y_pred)\n",
    "train_mse = mean_squared_error(y_train, y_pred)\n",
    "train_rmse = np.sqrt(train_mse)\n",
    "\n",
    "y_pred = [test_mean_price] * len(y_test)\n",
    "test_mae = mean_absolute_error(y_test, y_pred)\n",
    "test_mse = mean_squared_error(y_test, y_pred)\n",
    "test_rmse = np.sqrt(test_mse)\n",
    "\n",
    "result_MAE.loc[2] = ['native_mean', train_mae, test_mae]\n",
    "result_RMSE.loc[2] = ['native_mean', train_rmse, test_rmse]\n",
    "\n",
    "y_pred = [train_median_price] * len(y_train)\n",
    "train_mae = mean_absolute_error(y_train, y_pred)\n",
    "train_mse = mean_squared_error(y_train, y_pred)\n",
    "train_rmse = np.sqrt(train_mse)\n",
    "\n",
    "y_pred = [test_median_price] * len(y_test)\n",
    "test_mae = mean_absolute_error(y_test, y_pred)\n",
    "test_mse = mean_squared_error(y_test, y_pred)\n",
    "test_rmse = np.sqrt(test_mse)\n",
    "\n",
    "result_MAE.loc[3] = ['native_median', train_mae, test_mae]\n",
    "result_RMSE.loc[3] = ['native_median', train_rmse, test_rmse]"
   ]
  },
  {
   "cell_type": "code",
   "execution_count": 182,
   "id": "c1d63b4f-9ebe-4bf3-bb30-1ea4ea58eefb",
   "metadata": {},
   "outputs": [
    {
     "data": {
      "text/html": [
       "<div>\n",
       "<style scoped>\n",
       "    .dataframe tbody tr th:only-of-type {\n",
       "        vertical-align: middle;\n",
       "    }\n",
       "\n",
       "    .dataframe tbody tr th {\n",
       "        vertical-align: top;\n",
       "    }\n",
       "\n",
       "    .dataframe thead th {\n",
       "        text-align: right;\n",
       "    }\n",
       "</style>\n",
       "<table border=\"1\" class=\"dataframe\">\n",
       "  <thead>\n",
       "    <tr style=\"text-align: right;\">\n",
       "      <th></th>\n",
       "      <th>model</th>\n",
       "      <th>train</th>\n",
       "      <th>test</th>\n",
       "    </tr>\n",
       "  </thead>\n",
       "  <tbody>\n",
       "    <tr>\n",
       "      <th>0</th>\n",
       "      <td>linear_regression</td>\n",
       "      <td>756.040299</td>\n",
       "      <td>1.448889e+16</td>\n",
       "    </tr>\n",
       "    <tr>\n",
       "      <th>1</th>\n",
       "      <td>decision_tree</td>\n",
       "      <td>756.044735</td>\n",
       "      <td>9.541270e+02</td>\n",
       "    </tr>\n",
       "    <tr>\n",
       "      <th>2</th>\n",
       "      <td>native_mean</td>\n",
       "      <td>1139.192515</td>\n",
       "      <td>1.440961e+03</td>\n",
       "    </tr>\n",
       "    <tr>\n",
       "      <th>3</th>\n",
       "      <td>native_median</td>\n",
       "      <td>1086.210505</td>\n",
       "      <td>1.322641e+03</td>\n",
       "    </tr>\n",
       "  </tbody>\n",
       "</table>\n",
       "</div>"
      ],
      "text/plain": [
       "               model        train          test\n",
       "0  linear_regression   756.040299  1.448889e+16\n",
       "1      decision_tree   756.044735  9.541270e+02\n",
       "2        native_mean  1139.192515  1.440961e+03\n",
       "3      native_median  1086.210505  1.322641e+03"
      ]
     },
     "execution_count": 182,
     "metadata": {},
     "output_type": "execute_result"
    }
   ],
   "source": [
    "result_MAE"
   ]
  },
  {
   "cell_type": "code",
   "execution_count": 183,
   "id": "b39a1a2a-1510-4ad5-ac25-020917d5ad80",
   "metadata": {},
   "outputs": [
    {
     "data": {
      "text/html": [
       "<div>\n",
       "<style scoped>\n",
       "    .dataframe tbody tr th:only-of-type {\n",
       "        vertical-align: middle;\n",
       "    }\n",
       "\n",
       "    .dataframe tbody tr th {\n",
       "        vertical-align: top;\n",
       "    }\n",
       "\n",
       "    .dataframe thead th {\n",
       "        text-align: right;\n",
       "    }\n",
       "</style>\n",
       "<table border=\"1\" class=\"dataframe\">\n",
       "  <thead>\n",
       "    <tr style=\"text-align: right;\">\n",
       "      <th></th>\n",
       "      <th>model</th>\n",
       "      <th>train</th>\n",
       "      <th>test</th>\n",
       "    </tr>\n",
       "  </thead>\n",
       "  <tbody>\n",
       "    <tr>\n",
       "      <th>0</th>\n",
       "      <td>linear_regression</td>\n",
       "      <td>1077.566356</td>\n",
       "      <td>3.958916e+18</td>\n",
       "    </tr>\n",
       "    <tr>\n",
       "      <th>1</th>\n",
       "      <td>decision_tree</td>\n",
       "      <td>1077.483596</td>\n",
       "      <td>9.590243e+03</td>\n",
       "    </tr>\n",
       "    <tr>\n",
       "      <th>2</th>\n",
       "      <td>native_mean</td>\n",
       "      <td>1597.646655</td>\n",
       "      <td>9.713027e+03</td>\n",
       "    </tr>\n",
       "    <tr>\n",
       "      <th>3</th>\n",
       "      <td>native_median</td>\n",
       "      <td>1644.236439</td>\n",
       "      <td>9.731481e+03</td>\n",
       "    </tr>\n",
       "  </tbody>\n",
       "</table>\n",
       "</div>"
      ],
      "text/plain": [
       "               model        train          test\n",
       "0  linear_regression  1077.566356  3.958916e+18\n",
       "1      decision_tree  1077.483596  9.590243e+03\n",
       "2        native_mean  1597.646655  9.713027e+03\n",
       "3      native_median  1644.236439  9.731481e+03"
      ]
     },
     "execution_count": 183,
     "metadata": {},
     "output_type": "execute_result"
    }
   ],
   "source": [
    "result_RMSE"
   ]
  }
 ],
 "metadata": {
  "kernelspec": {
   "display_name": "Python 3 (ipykernel)",
   "language": "python",
   "name": "python3"
  },
  "language_info": {
   "codemirror_mode": {
    "name": "ipython",
    "version": 3
   },
   "file_extension": ".py",
   "mimetype": "text/x-python",
   "name": "python",
   "nbconvert_exporter": "python",
   "pygments_lexer": "ipython3",
   "version": "3.13.1"
  }
 },
 "nbformat": 4,
 "nbformat_minor": 5
}
